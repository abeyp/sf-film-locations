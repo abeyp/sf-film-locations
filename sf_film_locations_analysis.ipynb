{
  "nbformat": 4,
  "nbformat_minor": 0,
  "metadata": {
    "colab": {
      "name": "sf-film-locations-analysis.ipynb",
      "provenance": [],
      "toc_visible": true,
      "authorship_tag": "ABX9TyPCfzEalCQ8hSdJOSXQfzYV",
      "include_colab_link": true
    },
    "kernelspec": {
      "name": "python3",
      "display_name": "Python 3"
    },
    "language_info": {
      "name": "python"
    }
  },
  "cells": [
    {
      "cell_type": "markdown",
      "metadata": {
        "id": "view-in-github",
        "colab_type": "text"
      },
      "source": [
        "<a href=\"https://colab.research.google.com/github/abeyp/sf-film-locations/blob/main/sf_film_locations_analysis.ipynb\" target=\"_parent\"><img src=\"https://colab.research.google.com/assets/colab-badge.svg\" alt=\"Open In Colab\"/></a>"
      ]
    },
    {
      "cell_type": "markdown",
      "metadata": {
        "id": "5GYraZnhyIEh"
      },
      "source": [
        "# Exploratory Data Analysis on SF Film Locations\n",
        "\n",
        "Dataset obtained from:\n",
        "\n",
        "- Google BigQuery Public Data: \n",
        "\n",
        "Using SQL and Pandas\n",
        "\n",
        "Goal of exploratory data analysis is to develop an understanding of our data. "
      ]
    },
    {
      "cell_type": "markdown",
      "metadata": {
        "id": "Ue3ARyuX6ehe"
      },
      "source": [
        "## Dataset Description: \n"
      ]
    },
    {
      "cell_type": "markdown",
      "metadata": {
        "id": "gQQN6WRfCHs9"
      },
      "source": [
        "Schema:\n",
        "*   Title\n",
        "*   release_year\n",
        "*   locations\n",
        "*   production_company\n",
        "*   distributor\n",
        "*   director\n",
        "*   writer\n",
        "*   actor_1\n",
        "*   actor_2\n",
        "*   actor_3\n",
        "\n",
        "We can look at \n",
        "- the number of releases each year and see the trend of movie growth over the years and how the running total may look as well for sharp increases. \n",
        "- Look into top locations over all or for each year\n",
        "Top production company's and distributors\n",
        "- Looking ahead, we could combine another dataset to understand if any movies ranked highly overall or received awards."
      ]
    },
    {
      "cell_type": "code",
      "metadata": {
        "colab": {
          "base_uri": "https://localhost:8080/"
        },
        "id": "tuz2I_6iw_A-",
        "outputId": "2cd7f4dd-2540-438a-9e6d-d2265ab8b741"
      },
      "source": [
        "#Authenticate colab\n",
        "\n",
        "from google.colab import auth\n",
        "auth.authenticate_user()\n",
        "print('Authenticated')\n",
        "# %unload_ext google.colab.data_table"
      ],
      "execution_count": 8,
      "outputs": [
        {
          "output_type": "stream",
          "name": "stdout",
          "text": [
            "Authenticated\n"
          ]
        }
      ]
    },
    {
      "cell_type": "code",
      "metadata": {
        "id": "qz0X7Fq-xLYe"
      },
      "source": [
        "# My Google Cloud Project\n",
        "\n",
        "project_id = 'elated-bus-316920'"
      ],
      "execution_count": 10,
      "outputs": []
    },
    {
      "cell_type": "markdown",
      "metadata": {
        "id": "QDeetQfw29fO"
      },
      "source": [
        "## Data Prepping and Cleanning\n",
        "\n",
        "Quick Notes: \n",
        "- GBQ Schema noted `release_year` as an `INTEGAR`...need to change to `DATETIME` if I want to work with years or decades overview\n",
        "\n",
        "- Need to check for any null values as GBQ Schema notied `NULLABLE`\n",
        "- lowercase all the text to help with seaching through categorical variables (Options here include creating my own function or using NLTK package)\n"
      ]
    },
    {
      "cell_type": "code",
      "metadata": {
        "colab": {
          "base_uri": "https://localhost:8080/"
        },
        "id": "uEWTFSSWyGjC",
        "outputId": "eb692faf-df36-4323-f8e7-53c9fc067721"
      },
      "source": [
        "# Import BigQuery through google-cloud-bigquery\n",
        "\n",
        "from google.cloud import bigquery\n",
        "\n",
        "client = bigquery.Client(project=project_id)\n",
        "\n",
        "#View number of rows in our dataset\n",
        "row_count = client.query('''\n",
        "  SELECT \n",
        "    COUNT(*) as total\n",
        "  FROM `elated-bus-316920.sf_bq_copy.san_francisco_film_locations`''').to_dataframe().total[0]\n",
        "\n",
        "print('Full dataset has %d rows' % row_count)"
      ],
      "execution_count": 11,
      "outputs": [
        {
          "output_type": "stream",
          "name": "stderr",
          "text": [
            "WARNING:google.auth._default:No project ID could be determined. Consider running `gcloud config set project` or setting the GOOGLE_CLOUD_PROJECT environment variable\n"
          ]
        },
        {
          "output_type": "stream",
          "name": "stdout",
          "text": [
            "Full dataset has 3414 rows\n"
          ]
        }
      ]
    },
    {
      "cell_type": "code",
      "metadata": {
        "id": "GeE6FqF_0jc-"
      },
      "source": [
        "#Creating Pandas DataFrame\n",
        "\n",
        "df = client.query('''\n",
        "  SELECT\n",
        "    *\n",
        "  FROM\n",
        "    `elated-bus-316920.sf_bq_copy.san_francisco_film_locations`''').to_dataframe()"
      ],
      "execution_count": 14,
      "outputs": []
    },
    {
      "cell_type": "code",
      "metadata": {
        "colab": {
          "base_uri": "https://localhost:8080/",
          "height": 546
        },
        "id": "bSiFZ7o_1q77",
        "outputId": "efe19371-90a9-417f-86ce-55557b808dd5"
      },
      "source": [
        "df.head()"
      ],
      "execution_count": 15,
      "outputs": [
        {
          "output_type": "execute_result",
          "data": {
            "application/vnd.google.colaboratory.module+javascript": "\n      import \"https://ssl.gstatic.com/colaboratory/data_table/a6224c040fa35dcf/data_table.js\";\n\n      window.createDataTable({\n        data: [[{\n            'v': 0,\n            'f': \"0\",\n        },\n\"A Jitney Elopement\",\n{\n            'v': 1915,\n            'f': \"1915\",\n        },\n\"20th and Folsom Streets\",\nnull,\n\"The Essanay Film Manufacturing Company\",\n\"General Film Company\",\n\"Charles Chaplin\",\n\"Charles Chaplin\",\n\"Charles Chaplin\",\n\"Edna Purviance\",\nnull],\n [{\n            'v': 1,\n            'f': \"1\",\n        },\n\"A Jitney Elopement\",\n{\n            'v': 1915,\n            'f': \"1915\",\n        },\n\"Golden Gate Park\",\n\"During San Francisco's Gold Rush era, the Park was part of an area designated as the \\\"Great Sand Waste\\\".\",\n\"The Essanay Film Manufacturing Company\",\n\"General Film Company\",\n\"Charles Chaplin\",\n\"Charles Chaplin\",\n\"Charles Chaplin\",\n\"Edna Purviance\",\nnull],\n [{\n            'v': 2,\n            'f': \"2\",\n        },\n\"A Jitney Elopement\",\n{\n            'v': 1915,\n            'f': \"1915\",\n        },\n\"Golden Gate Park\",\n\"During San Francisco's Gold Rush era, the Park was part of an area designated as the \\\"Great Sand Waste\\\". \",\n\"The Essanay Film Manufacturing Company\",\n\"General Film Company\",\n\"Charles Chaplin\",\n\"Charles Chaplin\",\n\"Charles Chaplin\",\n\"Edna Purviance\",\nnull],\n [{\n            'v': 3,\n            'f': \"3\",\n        },\n\"A Jitney Elopement\",\n{\n            'v': 1915,\n            'f': \"1915\",\n        },\n\"20th and Folsom Streets\",\nnull,\n\"The Essanay Film Manufacturing Company\",\n\"General Film Company\",\n\"Charles Chaplin\",\n\"Charles Chaplin\",\n\"Charles Chaplin\",\n\"Edna Purviance\",\nnull],\n [{\n            'v': 4,\n            'f': \"4\",\n        },\n\"Greed\",\n{\n            'v': 1924,\n            'f': \"1924\",\n        },\n\"Cliff House (1090 Point Lobos Avenue)\",\n\"In 1887, the Cliff House was severely damaged when the schooner Parallel, abandoned and loaded with dynamite, ran aground on the rocks below.\",\n\"Metro-Goldwyn-Mayer (MGM)\",\n\"Metro-Goldwyn-Mayer (MGM)\",\n\"Eric von Stroheim\",\n\"Eric von Stroheim\",\n\"Zasu Pitts\",\n\"Gibson Gowland\",\n\"Jean Hersholt\"]],\n        columns: [[\"number\", \"index\"], [\"string\", \"title\"], [\"number\", \"release_year\"], [\"string\", \"locations\"], [\"string\", \"fun_facts\"], [\"string\", \"production_company\"], [\"string\", \"distributor\"], [\"string\", \"director\"], [\"string\", \"writer\"], [\"string\", \"actor_1\"], [\"string\", \"actor_2\"], [\"string\", \"actor_3\"]],\n        columnOptions: [{\"width\": \"1px\", \"className\": \"index_column\"}],\n        rowsPerPage: 25,\n        helpUrl: \"https://colab.research.google.com/notebooks/data_table.ipynb\",\n        suppressOutputScrolling: true,\n        minimumWidth: undefined,\n      });\n    ",
            "text/html": [
              "<div>\n",
              "<style scoped>\n",
              "    .dataframe tbody tr th:only-of-type {\n",
              "        vertical-align: middle;\n",
              "    }\n",
              "\n",
              "    .dataframe tbody tr th {\n",
              "        vertical-align: top;\n",
              "    }\n",
              "\n",
              "    .dataframe thead th {\n",
              "        text-align: right;\n",
              "    }\n",
              "</style>\n",
              "<table border=\"1\" class=\"dataframe\">\n",
              "  <thead>\n",
              "    <tr style=\"text-align: right;\">\n",
              "      <th></th>\n",
              "      <th>title</th>\n",
              "      <th>release_year</th>\n",
              "      <th>locations</th>\n",
              "      <th>fun_facts</th>\n",
              "      <th>production_company</th>\n",
              "      <th>distributor</th>\n",
              "      <th>director</th>\n",
              "      <th>writer</th>\n",
              "      <th>actor_1</th>\n",
              "      <th>actor_2</th>\n",
              "      <th>actor_3</th>\n",
              "    </tr>\n",
              "  </thead>\n",
              "  <tbody>\n",
              "    <tr>\n",
              "      <th>0</th>\n",
              "      <td>A Jitney Elopement</td>\n",
              "      <td>1915</td>\n",
              "      <td>20th and Folsom Streets</td>\n",
              "      <td>None</td>\n",
              "      <td>The Essanay Film Manufacturing Company</td>\n",
              "      <td>General Film Company</td>\n",
              "      <td>Charles Chaplin</td>\n",
              "      <td>Charles Chaplin</td>\n",
              "      <td>Charles Chaplin</td>\n",
              "      <td>Edna Purviance</td>\n",
              "      <td>None</td>\n",
              "    </tr>\n",
              "    <tr>\n",
              "      <th>1</th>\n",
              "      <td>A Jitney Elopement</td>\n",
              "      <td>1915</td>\n",
              "      <td>Golden Gate Park</td>\n",
              "      <td>During San Francisco's Gold Rush era, the Park...</td>\n",
              "      <td>The Essanay Film Manufacturing Company</td>\n",
              "      <td>General Film Company</td>\n",
              "      <td>Charles Chaplin</td>\n",
              "      <td>Charles Chaplin</td>\n",
              "      <td>Charles Chaplin</td>\n",
              "      <td>Edna Purviance</td>\n",
              "      <td>None</td>\n",
              "    </tr>\n",
              "    <tr>\n",
              "      <th>2</th>\n",
              "      <td>A Jitney Elopement</td>\n",
              "      <td>1915</td>\n",
              "      <td>Golden Gate Park</td>\n",
              "      <td>During San Francisco's Gold Rush era, the Park...</td>\n",
              "      <td>The Essanay Film Manufacturing Company</td>\n",
              "      <td>General Film Company</td>\n",
              "      <td>Charles Chaplin</td>\n",
              "      <td>Charles Chaplin</td>\n",
              "      <td>Charles Chaplin</td>\n",
              "      <td>Edna Purviance</td>\n",
              "      <td>None</td>\n",
              "    </tr>\n",
              "    <tr>\n",
              "      <th>3</th>\n",
              "      <td>A Jitney Elopement</td>\n",
              "      <td>1915</td>\n",
              "      <td>20th and Folsom Streets</td>\n",
              "      <td>None</td>\n",
              "      <td>The Essanay Film Manufacturing Company</td>\n",
              "      <td>General Film Company</td>\n",
              "      <td>Charles Chaplin</td>\n",
              "      <td>Charles Chaplin</td>\n",
              "      <td>Charles Chaplin</td>\n",
              "      <td>Edna Purviance</td>\n",
              "      <td>None</td>\n",
              "    </tr>\n",
              "    <tr>\n",
              "      <th>4</th>\n",
              "      <td>Greed</td>\n",
              "      <td>1924</td>\n",
              "      <td>Cliff House (1090 Point Lobos Avenue)</td>\n",
              "      <td>In 1887, the Cliff House was severely damaged ...</td>\n",
              "      <td>Metro-Goldwyn-Mayer (MGM)</td>\n",
              "      <td>Metro-Goldwyn-Mayer (MGM)</td>\n",
              "      <td>Eric von Stroheim</td>\n",
              "      <td>Eric von Stroheim</td>\n",
              "      <td>Zasu Pitts</td>\n",
              "      <td>Gibson Gowland</td>\n",
              "      <td>Jean Hersholt</td>\n",
              "    </tr>\n",
              "  </tbody>\n",
              "</table>\n",
              "</div>"
            ],
            "text/plain": [
              "                title  release_year  ...         actor_2        actor_3\n",
              "0  A Jitney Elopement          1915  ...  Edna Purviance           None\n",
              "1  A Jitney Elopement          1915  ...  Edna Purviance           None\n",
              "2  A Jitney Elopement          1915  ...  Edna Purviance           None\n",
              "3  A Jitney Elopement          1915  ...  Edna Purviance           None\n",
              "4               Greed          1924  ...  Gibson Gowland  Jean Hersholt\n",
              "\n",
              "[5 rows x 11 columns]"
            ]
          },
          "metadata": {},
          "execution_count": 15
        }
      ]
    },
    {
      "cell_type": "code",
      "metadata": {
        "id": "cmfEn9z758-b"
      },
      "source": [
        "#TODO: Check for null values"
      ],
      "execution_count": 42,
      "outputs": []
    },
    {
      "cell_type": "markdown",
      "metadata": {
        "id": "PfIKsvq913kt"
      },
      "source": [
        "# Exploratory Analysis\n",
        "\n",
        "We have all categorical data. What can we do with categorical data?"
      ]
    },
    {
      "cell_type": "code",
      "metadata": {
        "id": "ldPeUbFUwmjJ"
      },
      "source": [
        "# Import Packages\n",
        "import pandas as pd\n",
        "import matplotlib.pyplot as plt\n"
      ],
      "execution_count": 38,
      "outputs": []
    },
    {
      "cell_type": "code",
      "metadata": {
        "id": "IZ40xH6o635N"
      },
      "source": [
        "# TODO: Summary Statistics we can pull for general overview of categorical data before going into the questions..."
      ],
      "execution_count": 43,
      "outputs": []
    },
    {
      "cell_type": "markdown",
      "metadata": {
        "id": "wRmtaLrUuWIU"
      },
      "source": [
        "## How many distinct movies were shot each year in SF?\n",
        "\n",
        "- year | total_titles\n",
        "\n",
        "- year, count(distinct titles), group by the year, order by 2 desc"
      ]
    },
    {
      "cell_type": "code",
      "metadata": {
        "colab": {
          "base_uri": "https://localhost:8080/",
          "height": 419
        },
        "id": "BwtAKRWs1rYw",
        "outputId": "af784511-721a-48d0-b758-9a65551a085d"
      },
      "source": [
        "count_per_year = client.query('''\n",
        "  SELECT\n",
        "      release_year,\n",
        "      COUNT(DISTINCT title) as total_titles\n",
        "  FROM\n",
        "    `elated-bus-316920.sf_bq_copy.san_francisco_film_locations`\n",
        "  #WHERE release_year >= 2000 and release_year <= 2010\n",
        "  GROUP BY 1\n",
        "  ORDER BY 1 DESC\n",
        "  ''').to_dataframe()\n",
        "count_per_year"
      ],
      "execution_count": 37,
      "outputs": [
        {
          "output_type": "execute_result",
          "data": {
            "text/html": [
              "<div>\n",
              "<style scoped>\n",
              "    .dataframe tbody tr th:only-of-type {\n",
              "        vertical-align: middle;\n",
              "    }\n",
              "\n",
              "    .dataframe tbody tr th {\n",
              "        vertical-align: top;\n",
              "    }\n",
              "\n",
              "    .dataframe thead th {\n",
              "        text-align: right;\n",
              "    }\n",
              "</style>\n",
              "<table border=\"1\" class=\"dataframe\">\n",
              "  <thead>\n",
              "    <tr style=\"text-align: right;\">\n",
              "      <th></th>\n",
              "      <th>release_year</th>\n",
              "      <th>total_titles</th>\n",
              "    </tr>\n",
              "  </thead>\n",
              "  <tbody>\n",
              "    <tr>\n",
              "      <th>0</th>\n",
              "      <td>2019</td>\n",
              "      <td>4</td>\n",
              "    </tr>\n",
              "    <tr>\n",
              "      <th>1</th>\n",
              "      <td>2018</td>\n",
              "      <td>5</td>\n",
              "    </tr>\n",
              "    <tr>\n",
              "      <th>2</th>\n",
              "      <td>2017</td>\n",
              "      <td>7</td>\n",
              "    </tr>\n",
              "    <tr>\n",
              "      <th>3</th>\n",
              "      <td>2016</td>\n",
              "      <td>16</td>\n",
              "    </tr>\n",
              "    <tr>\n",
              "      <th>4</th>\n",
              "      <td>2015</td>\n",
              "      <td>23</td>\n",
              "    </tr>\n",
              "    <tr>\n",
              "      <th>...</th>\n",
              "      <td>...</td>\n",
              "      <td>...</td>\n",
              "    </tr>\n",
              "    <tr>\n",
              "      <th>71</th>\n",
              "      <td>1936</td>\n",
              "      <td>2</td>\n",
              "    </tr>\n",
              "    <tr>\n",
              "      <th>72</th>\n",
              "      <td>1935</td>\n",
              "      <td>1</td>\n",
              "    </tr>\n",
              "    <tr>\n",
              "      <th>73</th>\n",
              "      <td>1927</td>\n",
              "      <td>1</td>\n",
              "    </tr>\n",
              "    <tr>\n",
              "      <th>74</th>\n",
              "      <td>1924</td>\n",
              "      <td>1</td>\n",
              "    </tr>\n",
              "    <tr>\n",
              "      <th>75</th>\n",
              "      <td>1915</td>\n",
              "      <td>1</td>\n",
              "    </tr>\n",
              "  </tbody>\n",
              "</table>\n",
              "<p>76 rows × 2 columns</p>\n",
              "</div>"
            ],
            "text/plain": [
              "    release_year  total_titles\n",
              "0           2019             4\n",
              "1           2018             5\n",
              "2           2017             7\n",
              "3           2016            16\n",
              "4           2015            23\n",
              "..           ...           ...\n",
              "71          1936             2\n",
              "72          1935             1\n",
              "73          1927             1\n",
              "74          1924             1\n",
              "75          1915             1\n",
              "\n",
              "[76 rows x 2 columns]"
            ]
          },
          "metadata": {},
          "execution_count": 37
        }
      ]
    },
    {
      "cell_type": "markdown",
      "metadata": {
        "id": "DprYmVyQ3avy"
      },
      "source": [
        "How to check if numbers are correct?\n",
        "\n",
        "Also noticed there are Movies and TV Shows in the film locations dataset. something to look into another time if I am able to find another dataset to join"
      ]
    },
    {
      "cell_type": "code",
      "metadata": {
        "colab": {
          "base_uri": "https://localhost:8080/",
          "height": 265
        },
        "id": "lX2hidxz2l6j",
        "outputId": "b17e2a34-f2bc-467d-b4b5-9413195575c4"
      },
      "source": [
        "## TODO: forgot matplotlib, please do later!\n",
        "  # visualize count of titles\n",
        "  \n",
        "plt.plot(count_per_year)\n",
        "plt.show()"
      ],
      "execution_count": 28,
      "outputs": [
        {
          "output_type": "display_data",
          "data": {
            "image/png": "[encoded data removed]",
            "text/plain": [
              "<Figure size 432x288 with 1 Axes>"
            ]
          },
          "metadata": {
            "needs_background": "light"
          }
        }
      ]
    },
    {
      "cell_type": "markdown",
      "metadata": {
        "id": "Ag0hLZybxFuO"
      },
      "source": [
        "### What is the number of titles each decade? "
      ]
    },
    {
      "cell_type": "code",
      "metadata": {
        "id": "J_kdPa2qxP6X"
      },
      "source": [
        "#TODO: hard to extract the decade from the release_year (int)"
      ],
      "execution_count": null,
      "outputs": []
    },
    {
      "cell_type": "markdown",
      "metadata": {
        "id": "u_ROHnzVub6I"
      },
      "source": [
        "## What is the running total for titles filmed in SF?"
      ]
    },
    {
      "cell_type": "code",
      "metadata": {
        "colab": {
          "base_uri": "https://localhost:8080/",
          "height": 419
        },
        "id": "dYZm6HjJ5XDO",
        "outputId": "1ef68e2b-d52a-49df-aa06-af26bb9c478c"
      },
      "source": [
        "running_title_total = client.query('''\n",
        "WITH titles_by_year AS \n",
        "(\n",
        "SELECT\n",
        "      release_year,\n",
        "      COUNT(DISTINCT title) as num_titles\n",
        "  FROM\n",
        "    `elated-bus-316920.sf_bq_copy.san_francisco_film_locations`\n",
        "  GROUP BY 1\n",
        ")\n",
        "SELECT *,\n",
        "    SUM(num_titles) OVER(ORDER BY release_year) as cumulative_titles\n",
        "FROM titles_by_year\n",
        " ''').to_dataframe()\n",
        "running_title_total"
      ],
      "execution_count": 32,
      "outputs": [
        {
          "output_type": "execute_result",
          "data": {
            "text/html": [
              "<div>\n",
              "<style scoped>\n",
              "    .dataframe tbody tr th:only-of-type {\n",
              "        vertical-align: middle;\n",
              "    }\n",
              "\n",
              "    .dataframe tbody tr th {\n",
              "        vertical-align: top;\n",
              "    }\n",
              "\n",
              "    .dataframe thead th {\n",
              "        text-align: right;\n",
              "    }\n",
              "</style>\n",
              "<table border=\"1\" class=\"dataframe\">\n",
              "  <thead>\n",
              "    <tr style=\"text-align: right;\">\n",
              "      <th></th>\n",
              "      <th>release_year</th>\n",
              "      <th>num_titles</th>\n",
              "      <th>cumulative_titles</th>\n",
              "    </tr>\n",
              "  </thead>\n",
              "  <tbody>\n",
              "    <tr>\n",
              "      <th>0</th>\n",
              "      <td>1915</td>\n",
              "      <td>1</td>\n",
              "      <td>1</td>\n",
              "    </tr>\n",
              "    <tr>\n",
              "      <th>1</th>\n",
              "      <td>1924</td>\n",
              "      <td>1</td>\n",
              "      <td>2</td>\n",
              "    </tr>\n",
              "    <tr>\n",
              "      <th>2</th>\n",
              "      <td>1927</td>\n",
              "      <td>1</td>\n",
              "      <td>3</td>\n",
              "    </tr>\n",
              "    <tr>\n",
              "      <th>3</th>\n",
              "      <td>1935</td>\n",
              "      <td>1</td>\n",
              "      <td>4</td>\n",
              "    </tr>\n",
              "    <tr>\n",
              "      <th>4</th>\n",
              "      <td>1936</td>\n",
              "      <td>2</td>\n",
              "      <td>6</td>\n",
              "    </tr>\n",
              "    <tr>\n",
              "      <th>...</th>\n",
              "      <td>...</td>\n",
              "      <td>...</td>\n",
              "      <td>...</td>\n",
              "    </tr>\n",
              "    <tr>\n",
              "      <th>71</th>\n",
              "      <td>2015</td>\n",
              "      <td>23</td>\n",
              "      <td>284</td>\n",
              "    </tr>\n",
              "    <tr>\n",
              "      <th>72</th>\n",
              "      <td>2016</td>\n",
              "      <td>16</td>\n",
              "      <td>300</td>\n",
              "    </tr>\n",
              "    <tr>\n",
              "      <th>73</th>\n",
              "      <td>2017</td>\n",
              "      <td>7</td>\n",
              "      <td>307</td>\n",
              "    </tr>\n",
              "    <tr>\n",
              "      <th>74</th>\n",
              "      <td>2018</td>\n",
              "      <td>5</td>\n",
              "      <td>312</td>\n",
              "    </tr>\n",
              "    <tr>\n",
              "      <th>75</th>\n",
              "      <td>2019</td>\n",
              "      <td>4</td>\n",
              "      <td>316</td>\n",
              "    </tr>\n",
              "  </tbody>\n",
              "</table>\n",
              "<p>76 rows × 3 columns</p>\n",
              "</div>"
            ],
            "text/plain": [
              "    release_year  num_titles  cumulative_titles\n",
              "0           1915           1                  1\n",
              "1           1924           1                  2\n",
              "2           1927           1                  3\n",
              "3           1935           1                  4\n",
              "4           1936           2                  6\n",
              "..           ...         ...                ...\n",
              "71          2015          23                284\n",
              "72          2016          16                300\n",
              "73          2017           7                307\n",
              "74          2018           5                312\n",
              "75          2019           4                316\n",
              "\n",
              "[76 rows x 3 columns]"
            ]
          },
          "metadata": {},
          "execution_count": 32
        }
      ]
    },
    {
      "cell_type": "code",
      "metadata": {
        "colab": {
          "base_uri": "https://localhost:8080/",
          "height": 265
        },
        "id": "Y9LjBDTrsoqV",
        "outputId": "eac062eb-3386-4c1d-df15-63615d18d10b"
      },
      "source": [
        "## TODO: Finish Viz\n",
        "\n",
        "plt.plot(running_title_total['cumulative_titles'])\n",
        "plt.show()"
      ],
      "execution_count": 36,
      "outputs": [
        {
          "output_type": "display_data",
          "data": {
            "image/png": "[encoded data removed]",
            "text/plain": [
              "<Figure size 432x288 with 1 Axes>"
            ]
          },
          "metadata": {
            "needs_background": "light"
          }
        }
      ]
    },
    {
      "cell_type": "markdown",
      "metadata": {
        "id": "9ZqOlKhDw2RG"
      },
      "source": [
        "We can see in the running total of titles, there is a sharp increase in titles as it curves up. A slight plataeu that sharply increases much more drastically in recent years. "
      ]
    },
    {
      "cell_type": "markdown",
      "metadata": {
        "id": "Iqv_u5DewwQU"
      },
      "source": [
        "## What are the most popular SF film locations?\n"
      ]
    },
    {
      "cell_type": "code",
      "metadata": {
        "colab": {
          "base_uri": "https://localhost:8080/"
        },
        "id": "WoN5cC_izzHq",
        "outputId": "2264847f-3d0a-4b4b-a67f-3cd7af22a7ef"
      },
      "source": [
        "# How many distinct SF Locations are there? \n",
        "len(df['locations'].value_counts())"
      ],
      "execution_count": 64,
      "outputs": [
        {
          "output_type": "execute_result",
          "data": {
            "text/plain": [
              "1400"
            ]
          },
          "metadata": {},
          "execution_count": 64
        }
      ]
    },
    {
      "cell_type": "code",
      "metadata": {
        "colab": {
          "base_uri": "https://localhost:8080/",
          "height": 80
        },
        "id": "LOZi7r0u-BrK",
        "outputId": "0357b479-e61a-496f-e7de-aa9f6fc71f53"
      },
      "source": [
        "#checking against SQL \n",
        "\n",
        "num_distinct_sf_locations = client.query('''\n",
        "SELECT COUNT(DISTINCT locations) as num_of_locations\n",
        "FROM `elated-bus-316920.sf_bq_copy.san_francisco_film_locations`\n",
        "WHERE locations IS NOT NULL''').to_dataframe()\n",
        "num_distinct_sf_locations"
      ],
      "execution_count": 66,
      "outputs": [
        {
          "output_type": "execute_result",
          "data": {
            "text/html": [
              "<div>\n",
              "<style scoped>\n",
              "    .dataframe tbody tr th:only-of-type {\n",
              "        vertical-align: middle;\n",
              "    }\n",
              "\n",
              "    .dataframe tbody tr th {\n",
              "        vertical-align: top;\n",
              "    }\n",
              "\n",
              "    .dataframe thead th {\n",
              "        text-align: right;\n",
              "    }\n",
              "</style>\n",
              "<table border=\"1\" class=\"dataframe\">\n",
              "  <thead>\n",
              "    <tr style=\"text-align: right;\">\n",
              "      <th></th>\n",
              "      <th>num_of_locations</th>\n",
              "    </tr>\n",
              "  </thead>\n",
              "  <tbody>\n",
              "    <tr>\n",
              "      <th>0</th>\n",
              "      <td>1400</td>\n",
              "    </tr>\n",
              "  </tbody>\n",
              "</table>\n",
              "</div>"
            ],
            "text/plain": [
              "   num_of_locations\n",
              "0              1400"
            ]
          },
          "metadata": {},
          "execution_count": 66
        }
      ]
    },
    {
      "cell_type": "code",
      "metadata": {
        "colab": {
          "base_uri": "https://localhost:8080/"
        },
        "id": "PZ1qJlZY7cCb",
        "outputId": "ff09acf3-203f-48fb-c686-e1ed449fabc3"
      },
      "source": [
        "# Count of mentioned locations \n",
        "df['locations'].value_counts()"
      ],
      "execution_count": 51,
      "outputs": [
        {
          "output_type": "execute_result",
          "data": {
            "text/plain": [
              "Golden Gate Bridge                             54\n",
              "City Hall                                      45\n",
              "Fairmont Hotel (950 Mason Street, Nob Hill)    41\n",
              "Treasure Island                                28\n",
              "Coit Tower                                     22\n",
              "                                               ..\n",
              "Terry A. Francois Blvd.                         1\n",
              "Grant Ave btwn Clay and Jackson                 1\n",
              "Powell St btwn North Point and Embarcadero      1\n",
              "Russian Hill                                    1\n",
              "Bush St at Mason St                             1\n",
              "Name: locations, Length: 1400, dtype: int64"
            ]
          },
          "metadata": {},
          "execution_count": 51
        }
      ]
    },
    {
      "cell_type": "markdown",
      "metadata": {
        "id": "JadLTy84-g5W"
      },
      "source": [
        "LIMITATIONS: slight differences in text. \n",
        "For example, Golden Gate Bridge being lowercase vs uppercase, having '-'\n",
        "\n",
        "In NLTK Package: \n",
        "Tokeniation and stem each work in a list and rejoin on a space character. "
      ]
    },
    {
      "cell_type": "code",
      "metadata": {
        "id": "aQFFViL-7prx"
      },
      "source": [
        ""
      ],
      "execution_count": null,
      "outputs": []
    },
    {
      "cell_type": "markdown",
      "metadata": {
        "id": "r4Qm9lJO_mAB"
      },
      "source": [
        "## Who are the top producers and distributors in our dataset?\n",
        "\n",
        "Top production company's and distributors"
      ]
    },
    {
      "cell_type": "code",
      "metadata": {
        "colab": {
          "base_uri": "https://localhost:8080/",
          "height": 332
        },
        "id": "ftXn3pkh_p5b",
        "outputId": "8549ac28-a810-4e74-d3bd-e586d4561858"
      },
      "source": [
        "df.head(3)"
      ],
      "execution_count": 67,
      "outputs": [
        {
          "output_type": "execute_result",
          "data": {
            "text/html": [
              "<div>\n",
              "<style scoped>\n",
              "    .dataframe tbody tr th:only-of-type {\n",
              "        vertical-align: middle;\n",
              "    }\n",
              "\n",
              "    .dataframe tbody tr th {\n",
              "        vertical-align: top;\n",
              "    }\n",
              "\n",
              "    .dataframe thead th {\n",
              "        text-align: right;\n",
              "    }\n",
              "</style>\n",
              "<table border=\"1\" class=\"dataframe\">\n",
              "  <thead>\n",
              "    <tr style=\"text-align: right;\">\n",
              "      <th></th>\n",
              "      <th>title</th>\n",
              "      <th>release_year</th>\n",
              "      <th>locations</th>\n",
              "      <th>fun_facts</th>\n",
              "      <th>production_company</th>\n",
              "      <th>distributor</th>\n",
              "      <th>director</th>\n",
              "      <th>writer</th>\n",
              "      <th>actor_1</th>\n",
              "      <th>actor_2</th>\n",
              "      <th>actor_3</th>\n",
              "    </tr>\n",
              "  </thead>\n",
              "  <tbody>\n",
              "    <tr>\n",
              "      <th>0</th>\n",
              "      <td>A Jitney Elopement</td>\n",
              "      <td>1915</td>\n",
              "      <td>20th and Folsom Streets</td>\n",
              "      <td>None</td>\n",
              "      <td>The Essanay Film Manufacturing Company</td>\n",
              "      <td>General Film Company</td>\n",
              "      <td>Charles Chaplin</td>\n",
              "      <td>Charles Chaplin</td>\n",
              "      <td>Charles Chaplin</td>\n",
              "      <td>Edna Purviance</td>\n",
              "      <td>None</td>\n",
              "    </tr>\n",
              "    <tr>\n",
              "      <th>1</th>\n",
              "      <td>A Jitney Elopement</td>\n",
              "      <td>1915</td>\n",
              "      <td>Golden Gate Park</td>\n",
              "      <td>During San Francisco's Gold Rush era, the Park...</td>\n",
              "      <td>The Essanay Film Manufacturing Company</td>\n",
              "      <td>General Film Company</td>\n",
              "      <td>Charles Chaplin</td>\n",
              "      <td>Charles Chaplin</td>\n",
              "      <td>Charles Chaplin</td>\n",
              "      <td>Edna Purviance</td>\n",
              "      <td>None</td>\n",
              "    </tr>\n",
              "    <tr>\n",
              "      <th>2</th>\n",
              "      <td>A Jitney Elopement</td>\n",
              "      <td>1915</td>\n",
              "      <td>Golden Gate Park</td>\n",
              "      <td>During San Francisco's Gold Rush era, the Park...</td>\n",
              "      <td>The Essanay Film Manufacturing Company</td>\n",
              "      <td>General Film Company</td>\n",
              "      <td>Charles Chaplin</td>\n",
              "      <td>Charles Chaplin</td>\n",
              "      <td>Charles Chaplin</td>\n",
              "      <td>Edna Purviance</td>\n",
              "      <td>None</td>\n",
              "    </tr>\n",
              "  </tbody>\n",
              "</table>\n",
              "</div>"
            ],
            "text/plain": [
              "                title  release_year  ...         actor_2 actor_3\n",
              "0  A Jitney Elopement          1915  ...  Edna Purviance    None\n",
              "1  A Jitney Elopement          1915  ...  Edna Purviance    None\n",
              "2  A Jitney Elopement          1915  ...  Edna Purviance    None\n",
              "\n",
              "[3 rows x 11 columns]"
            ]
          },
          "metadata": {},
          "execution_count": 67
        }
      ]
    },
    {
      "cell_type": "code",
      "metadata": {
        "colab": {
          "base_uri": "https://localhost:8080/"
        },
        "id": "t2b1WdWw_w3-",
        "outputId": "250f5e23-4bc6-4161-a316-e4ccb1f11e0c"
      },
      "source": [
        "df['production_company'].value_counts(ascending=False).head(10)"
      ],
      "execution_count": 76,
      "outputs": [
        {
          "output_type": "execute_result",
          "data": {
            "text/plain": [
              "Mission Street Productions, LLC           250\n",
              "Warner Bros. Pictures                     198\n",
              "Paramount Pictures                        182\n",
              "TVM Productions                           168\n",
              "Turner North Center Productions           116\n",
              "Unpronounceable Productions, LLC           84\n",
              "The Malpaso Company                        60\n",
              "TVM Productions Inc.                       60\n",
              "Twentieth Century Fox Film Corporation     56\n",
              "Orion Pictures Corp.                       56\n",
              "Name: production_company, dtype: int64"
            ]
          },
          "metadata": {},
          "execution_count": 76
        }
      ]
    },
    {
      "cell_type": "code",
      "metadata": {
        "colab": {
          "base_uri": "https://localhost:8080/"
        },
        "id": "hGfhHFyu_2Jo",
        "outputId": "08a58e6a-5552-4f24-9317-6d769b00169b"
      },
      "source": [
        "df['distributor'].value_counts(ascending=False).head(10)"
      ],
      "execution_count": 75,
      "outputs": [
        {
          "output_type": "execute_result",
          "data": {
            "text/plain": [
              "Warner Bros. Pictures              300\n",
              "Paramount Pictures                 298\n",
              "Netflix                            202\n",
              "HBO                                186\n",
              "HULU                               168\n",
              "Turner Network Television (TNT)    116\n",
              "Buena Vista Pictures               104\n",
              "Sony Pictures Classics             102\n",
              "Columbia Pictures                   98\n",
              "Universal Pictures                  96\n",
              "Name: distributor, dtype: int64"
            ]
          },
          "metadata": {},
          "execution_count": 75
        }
      ]
    },
    {
      "cell_type": "markdown",
      "metadata": {
        "id": "S98csM4qB40A"
      },
      "source": [
        "## Empty - Ideas\n",
        "\n",
        "Maybe show more skills in seaching for text among directors and actors"
      ]
    },
    {
      "cell_type": "code",
      "metadata": {
        "id": "N6neAQyNBOS9"
      },
      "source": [
        ""
      ],
      "execution_count": null,
      "outputs": []
    }
  ]
}